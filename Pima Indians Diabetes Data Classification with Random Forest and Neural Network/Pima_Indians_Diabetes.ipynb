{
  "nbformat": 4,
  "nbformat_minor": 0,
  "metadata": {
    "colab": {
      "provenance": []
    },
    "kernelspec": {
      "name": "python3",
      "display_name": "Python 3"
    },
    "language_info": {
      "name": "python"
    }
  },
  "cells": [
    {
      "cell_type": "code",
      "execution_count": 2,
      "metadata": {
        "id": "mWvGW1OlftnA",
        "colab": {
          "base_uri": "https://localhost:8080/",
          "height": 74
        },
        "outputId": "27907a94-42b5-42c4-b6b1-75818e157545"
      },
      "outputs": [
        {
          "output_type": "display_data",
          "data": {
            "text/plain": [
              "<IPython.core.display.HTML object>"
            ],
            "text/html": [
              "\n",
              "     <input type=\"file\" id=\"files-79d7e02c-70cb-41c8-ac34-96eb263fea43\" name=\"files[]\" multiple disabled\n",
              "        style=\"border:none\" />\n",
              "     <output id=\"result-79d7e02c-70cb-41c8-ac34-96eb263fea43\">\n",
              "      Upload widget is only available when the cell has been executed in the\n",
              "      current browser session. Please rerun this cell to enable.\n",
              "      </output>\n",
              "      <script>// Copyright 2017 Google LLC\n",
              "//\n",
              "// Licensed under the Apache License, Version 2.0 (the \"License\");\n",
              "// you may not use this file except in compliance with the License.\n",
              "// You may obtain a copy of the License at\n",
              "//\n",
              "//      http://www.apache.org/licenses/LICENSE-2.0\n",
              "//\n",
              "// Unless required by applicable law or agreed to in writing, software\n",
              "// distributed under the License is distributed on an \"AS IS\" BASIS,\n",
              "// WITHOUT WARRANTIES OR CONDITIONS OF ANY KIND, either express or implied.\n",
              "// See the License for the specific language governing permissions and\n",
              "// limitations under the License.\n",
              "\n",
              "/**\n",
              " * @fileoverview Helpers for google.colab Python module.\n",
              " */\n",
              "(function(scope) {\n",
              "function span(text, styleAttributes = {}) {\n",
              "  const element = document.createElement('span');\n",
              "  element.textContent = text;\n",
              "  for (const key of Object.keys(styleAttributes)) {\n",
              "    element.style[key] = styleAttributes[key];\n",
              "  }\n",
              "  return element;\n",
              "}\n",
              "\n",
              "// Max number of bytes which will be uploaded at a time.\n",
              "const MAX_PAYLOAD_SIZE = 100 * 1024;\n",
              "\n",
              "function _uploadFiles(inputId, outputId) {\n",
              "  const steps = uploadFilesStep(inputId, outputId);\n",
              "  const outputElement = document.getElementById(outputId);\n",
              "  // Cache steps on the outputElement to make it available for the next call\n",
              "  // to uploadFilesContinue from Python.\n",
              "  outputElement.steps = steps;\n",
              "\n",
              "  return _uploadFilesContinue(outputId);\n",
              "}\n",
              "\n",
              "// This is roughly an async generator (not supported in the browser yet),\n",
              "// where there are multiple asynchronous steps and the Python side is going\n",
              "// to poll for completion of each step.\n",
              "// This uses a Promise to block the python side on completion of each step,\n",
              "// then passes the result of the previous step as the input to the next step.\n",
              "function _uploadFilesContinue(outputId) {\n",
              "  const outputElement = document.getElementById(outputId);\n",
              "  const steps = outputElement.steps;\n",
              "\n",
              "  const next = steps.next(outputElement.lastPromiseValue);\n",
              "  return Promise.resolve(next.value.promise).then((value) => {\n",
              "    // Cache the last promise value to make it available to the next\n",
              "    // step of the generator.\n",
              "    outputElement.lastPromiseValue = value;\n",
              "    return next.value.response;\n",
              "  });\n",
              "}\n",
              "\n",
              "/**\n",
              " * Generator function which is called between each async step of the upload\n",
              " * process.\n",
              " * @param {string} inputId Element ID of the input file picker element.\n",
              " * @param {string} outputId Element ID of the output display.\n",
              " * @return {!Iterable<!Object>} Iterable of next steps.\n",
              " */\n",
              "function* uploadFilesStep(inputId, outputId) {\n",
              "  const inputElement = document.getElementById(inputId);\n",
              "  inputElement.disabled = false;\n",
              "\n",
              "  const outputElement = document.getElementById(outputId);\n",
              "  outputElement.innerHTML = '';\n",
              "\n",
              "  const pickedPromise = new Promise((resolve) => {\n",
              "    inputElement.addEventListener('change', (e) => {\n",
              "      resolve(e.target.files);\n",
              "    });\n",
              "  });\n",
              "\n",
              "  const cancel = document.createElement('button');\n",
              "  inputElement.parentElement.appendChild(cancel);\n",
              "  cancel.textContent = 'Cancel upload';\n",
              "  const cancelPromise = new Promise((resolve) => {\n",
              "    cancel.onclick = () => {\n",
              "      resolve(null);\n",
              "    };\n",
              "  });\n",
              "\n",
              "  // Wait for the user to pick the files.\n",
              "  const files = yield {\n",
              "    promise: Promise.race([pickedPromise, cancelPromise]),\n",
              "    response: {\n",
              "      action: 'starting',\n",
              "    }\n",
              "  };\n",
              "\n",
              "  cancel.remove();\n",
              "\n",
              "  // Disable the input element since further picks are not allowed.\n",
              "  inputElement.disabled = true;\n",
              "\n",
              "  if (!files) {\n",
              "    return {\n",
              "      response: {\n",
              "        action: 'complete',\n",
              "      }\n",
              "    };\n",
              "  }\n",
              "\n",
              "  for (const file of files) {\n",
              "    const li = document.createElement('li');\n",
              "    li.append(span(file.name, {fontWeight: 'bold'}));\n",
              "    li.append(span(\n",
              "        `(${file.type || 'n/a'}) - ${file.size} bytes, ` +\n",
              "        `last modified: ${\n",
              "            file.lastModifiedDate ? file.lastModifiedDate.toLocaleDateString() :\n",
              "                                    'n/a'} - `));\n",
              "    const percent = span('0% done');\n",
              "    li.appendChild(percent);\n",
              "\n",
              "    outputElement.appendChild(li);\n",
              "\n",
              "    const fileDataPromise = new Promise((resolve) => {\n",
              "      const reader = new FileReader();\n",
              "      reader.onload = (e) => {\n",
              "        resolve(e.target.result);\n",
              "      };\n",
              "      reader.readAsArrayBuffer(file);\n",
              "    });\n",
              "    // Wait for the data to be ready.\n",
              "    let fileData = yield {\n",
              "      promise: fileDataPromise,\n",
              "      response: {\n",
              "        action: 'continue',\n",
              "      }\n",
              "    };\n",
              "\n",
              "    // Use a chunked sending to avoid message size limits. See b/62115660.\n",
              "    let position = 0;\n",
              "    do {\n",
              "      const length = Math.min(fileData.byteLength - position, MAX_PAYLOAD_SIZE);\n",
              "      const chunk = new Uint8Array(fileData, position, length);\n",
              "      position += length;\n",
              "\n",
              "      const base64 = btoa(String.fromCharCode.apply(null, chunk));\n",
              "      yield {\n",
              "        response: {\n",
              "          action: 'append',\n",
              "          file: file.name,\n",
              "          data: base64,\n",
              "        },\n",
              "      };\n",
              "\n",
              "      let percentDone = fileData.byteLength === 0 ?\n",
              "          100 :\n",
              "          Math.round((position / fileData.byteLength) * 100);\n",
              "      percent.textContent = `${percentDone}% done`;\n",
              "\n",
              "    } while (position < fileData.byteLength);\n",
              "  }\n",
              "\n",
              "  // All done.\n",
              "  yield {\n",
              "    response: {\n",
              "      action: 'complete',\n",
              "    }\n",
              "  };\n",
              "}\n",
              "\n",
              "scope.google = scope.google || {};\n",
              "scope.google.colab = scope.google.colab || {};\n",
              "scope.google.colab._files = {\n",
              "  _uploadFiles,\n",
              "  _uploadFilesContinue,\n",
              "};\n",
              "})(self);\n",
              "</script> "
            ]
          },
          "metadata": {}
        },
        {
          "output_type": "stream",
          "name": "stdout",
          "text": [
            "Saving diabetes.csv to diabetes.csv\n"
          ]
        }
      ],
      "source": [
        "#upload csv file\n",
        "from google.colab import files\n",
        "\n",
        "uploaded = files.upload()"
      ]
    },
    {
      "cell_type": "code",
      "source": [
        "#Import Library\n",
        "import pandas as pd\n",
        "import matplotlib.pyplot as plt\n",
        "from sklearn import tree"
      ],
      "metadata": {
        "id": "VSJcmfLVBSUd"
      },
      "execution_count": 1,
      "outputs": []
    },
    {
      "cell_type": "code",
      "source": [
        "#Reading data\n",
        "diabetes = pd.read_csv(\"diabetes.csv\")\n",
        "\n",
        "#Creating dataframe\n",
        "data = pd.DataFrame(diabetes)\n",
        "\n",
        "#Checking data type\n",
        "data.dtypes"
      ],
      "metadata": {
        "id": "Vb6C355fr0L5",
        "colab": {
          "base_uri": "https://localhost:8080/"
        },
        "outputId": "367da9d1-9c1a-4919-fc78-e7709635aaba"
      },
      "execution_count": 2,
      "outputs": [
        {
          "output_type": "execute_result",
          "data": {
            "text/plain": [
              "Pregnancies                   int64\n",
              "Glucose                       int64\n",
              "BloodPressure                 int64\n",
              "SkinThickness                 int64\n",
              "Insulin                       int64\n",
              "BMI                         float64\n",
              "DiabetesPedigreeFunction    float64\n",
              "Age                           int64\n",
              "Outcome                       int64\n",
              "dtype: object"
            ]
          },
          "metadata": {},
          "execution_count": 2
        }
      ]
    },
    {
      "cell_type": "code",
      "source": [
        "#Printing raw data\n",
        "print(\" ==================== Raw Data ==================== \\n\")\n",
        "\n",
        "pd.set_option('display.max_rows', 10) \n",
        "pd.set_option('display.max_columns', None) #to show all columns\n",
        "print(data, \"\\n\")"
      ],
      "metadata": {
        "id": "q28wq5WTsBqT",
        "colab": {
          "base_uri": "https://localhost:8080/"
        },
        "outputId": "785825da-bf37-442c-cc80-24b3f70c3815"
      },
      "execution_count": 3,
      "outputs": [
        {
          "output_type": "stream",
          "name": "stdout",
          "text": [
            " ==================== Raw Data ==================== \n",
            "\n",
            "     Pregnancies  Glucose  BloodPressure  SkinThickness  Insulin   BMI  \\\n",
            "0              6      148             72             35        0  33.6   \n",
            "1              1       85             66             29        0  26.6   \n",
            "2              8      183             64              0        0  23.3   \n",
            "3              1       89             66             23       94  28.1   \n",
            "4              0      137             40             35      168  43.1   \n",
            "..           ...      ...            ...            ...      ...   ...   \n",
            "763           10      101             76             48      180  32.9   \n",
            "764            2      122             70             27        0  36.8   \n",
            "765            5      121             72             23      112  26.2   \n",
            "766            1      126             60              0        0  30.1   \n",
            "767            1       93             70             31        0  30.4   \n",
            "\n",
            "     DiabetesPedigreeFunction  Age  Outcome  \n",
            "0                       0.627   50        1  \n",
            "1                       0.351   31        0  \n",
            "2                       0.672   32        1  \n",
            "3                       0.167   21        0  \n",
            "4                       2.288   33        1  \n",
            "..                        ...  ...      ...  \n",
            "763                     0.171   63        0  \n",
            "764                     0.340   27        0  \n",
            "765                     0.245   30        0  \n",
            "766                     0.349   47        1  \n",
            "767                     0.315   23        0  \n",
            "\n",
            "[768 rows x 9 columns] \n",
            "\n"
          ]
        }
      ]
    },
    {
      "cell_type": "markdown",
      "source": [
        "preprocessing"
      ],
      "metadata": {
        "id": "ul-QmrGPJ16p"
      }
    },
    {
      "cell_type": "code",
      "source": [
        "#Calculating IQR\n",
        "Q1 = data.quantile(0.25)\n",
        "Q3 = data.quantile(0.75)\n",
        "IQR = Q3 - Q1\n",
        "print(IQR)\n",
        "data.shape"
      ],
      "metadata": {
        "colab": {
          "base_uri": "https://localhost:8080/"
        },
        "id": "clupOEfQJ32k",
        "outputId": "d2943f30-18d2-4602-cd9a-68efc133f0c5"
      },
      "execution_count": 4,
      "outputs": [
        {
          "output_type": "stream",
          "name": "stdout",
          "text": [
            "Pregnancies                   5.0000\n",
            "Glucose                      41.2500\n",
            "BloodPressure                18.0000\n",
            "SkinThickness                32.0000\n",
            "Insulin                     127.2500\n",
            "BMI                           9.3000\n",
            "DiabetesPedigreeFunction      0.3825\n",
            "Age                          17.0000\n",
            "Outcome                       1.0000\n",
            "dtype: float64\n"
          ]
        },
        {
          "output_type": "execute_result",
          "data": {
            "text/plain": [
              "(768, 9)"
            ]
          },
          "metadata": {},
          "execution_count": 4
        }
      ]
    },
    {
      "cell_type": "code",
      "source": [
        "#Detecting Total Outliers\n",
        "((data < (Q1 - 1.5 * IQR)) | (data > (Q3 + 1.5 * IQR))).sum()"
      ],
      "metadata": {
        "colab": {
          "base_uri": "https://localhost:8080/"
        },
        "id": "9YH-9HzbJ5fy",
        "outputId": "d0d49db1-d377-4ba7-e361-ac71c6ddeec4"
      },
      "execution_count": 5,
      "outputs": [
        {
          "output_type": "execute_result",
          "data": {
            "text/plain": [
              "Pregnancies                  4\n",
              "Glucose                      5\n",
              "BloodPressure               45\n",
              "SkinThickness                1\n",
              "Insulin                     34\n",
              "BMI                         19\n",
              "DiabetesPedigreeFunction    29\n",
              "Age                          9\n",
              "Outcome                      0\n",
              "dtype: int64"
            ]
          },
          "metadata": {},
          "execution_count": 5
        }
      ]
    },
    {
      "cell_type": "code",
      "source": [
        "#Deleting outliers\n",
        "df = data[~((data < (Q1 - 1.5 * IQR)) |(data > (Q3 + 1.5 * IQR))).any(axis=1)]\n",
        "df.shape"
      ],
      "metadata": {
        "colab": {
          "base_uri": "https://localhost:8080/"
        },
        "id": "BqpKTLSwJ75u",
        "outputId": "a0408ce2-584a-4ad2-97f1-4ce18918fa14"
      },
      "execution_count": 6,
      "outputs": [
        {
          "output_type": "execute_result",
          "data": {
            "text/plain": [
              "(639, 9)"
            ]
          },
          "metadata": {},
          "execution_count": 6
        }
      ]
    },
    {
      "cell_type": "code",
      "source": [
        "#Detecting Missing Values\n",
        "print()\n",
        "print(\"=============== DETECTING MISSING VALUES =============== \")\n",
        "df.isna().sum()"
      ],
      "metadata": {
        "colab": {
          "base_uri": "https://localhost:8080/"
        },
        "id": "5fH9yjqSKAtj",
        "outputId": "f90fb4fa-279c-4ac5-8cbe-094935958c89"
      },
      "execution_count": 7,
      "outputs": [
        {
          "output_type": "stream",
          "name": "stdout",
          "text": [
            "\n",
            "=============== DETECTING MISSING VALUES =============== \n"
          ]
        },
        {
          "output_type": "execute_result",
          "data": {
            "text/plain": [
              "Pregnancies                 0\n",
              "Glucose                     0\n",
              "BloodPressure               0\n",
              "SkinThickness               0\n",
              "Insulin                     0\n",
              "BMI                         0\n",
              "DiabetesPedigreeFunction    0\n",
              "Age                         0\n",
              "Outcome                     0\n",
              "dtype: int64"
            ]
          },
          "metadata": {},
          "execution_count": 7
        }
      ]
    },
    {
      "cell_type": "markdown",
      "source": [
        "RANDOM FOREST"
      ],
      "metadata": {
        "id": "3fqIkFytKHnB"
      }
    },
    {
      "cell_type": "code",
      "source": [
        "from sklearn.model_selection import train_test_split\n",
        "#features = ['Pregnancies', 'Glucose', 'BloodPressure', 'SkinThickness', 'Insulin','BMI', 'DiabetesPedigreeFunction', 'Age']\n",
        "x = df.drop(['Outcome'], axis=1)\n",
        "y = df['Outcome']\n",
        "\n",
        "#implementing train-test-split\n",
        "x_train, x_test, y_train, y_test = train_test_split(x, y, test_size=0.4, random_state=42)"
      ],
      "metadata": {
        "id": "3u19ZL3TKJKy"
      },
      "execution_count": 8,
      "outputs": []
    },
    {
      "cell_type": "code",
      "source": [
        "from sklearn import model_selection\n",
        "from sklearn.ensemble import RandomForestClassifier\n",
        "\n",
        "#random forest model creation\n",
        "rfc = RandomForestClassifier(n_estimators=100, max_depth=3, min_samples_split=20)\n",
        "rfc.fit(x_train,y_train)\n",
        "#predictions\n",
        "rfc_predict = rfc.predict(x_test)"
      ],
      "metadata": {
        "id": "AHz1MOzcLOIN"
      },
      "execution_count": 9,
      "outputs": []
    },
    {
      "cell_type": "code",
      "source": [
        "from sklearn.metrics import classification_report, confusion_matrix\n",
        "\n",
        "print(\"=== Confusion Matrix ===\") \n",
        "print(confusion_matrix(y_test, rfc_predict))\n",
        "print('\\n')\n",
        "print(\"=== Classification Report ===\")\n",
        "print(classification_report(y_test, rfc_predict))\n",
        "print('\\n')"
      ],
      "metadata": {
        "colab": {
          "base_uri": "https://localhost:8080/"
        },
        "id": "QxKqzOcMQoJT",
        "outputId": "3fc86738-a537-4b84-a579-e4125deaa38c"
      },
      "execution_count": 10,
      "outputs": [
        {
          "output_type": "stream",
          "name": "stdout",
          "text": [
            "=== Confusion Matrix ===\n",
            "[[170   3]\n",
            " [ 56  27]]\n",
            "\n",
            "\n",
            "=== Classification Report ===\n",
            "              precision    recall  f1-score   support\n",
            "\n",
            "           0       0.75      0.98      0.85       173\n",
            "           1       0.90      0.33      0.48        83\n",
            "\n",
            "    accuracy                           0.77       256\n",
            "   macro avg       0.83      0.65      0.67       256\n",
            "weighted avg       0.80      0.77      0.73       256\n",
            "\n",
            "\n",
            "\n"
          ]
        }
      ]
    },
    {
      "cell_type": "code",
      "source": [
        "import seaborn as sns\n",
        "\n",
        "plt.figure(figsize = (8, 8))\n",
        "sns.heatmap(confusion_matrix(y_test, rfc_predict), annot = True)"
      ],
      "metadata": {
        "colab": {
          "base_uri": "https://localhost:8080/",
          "height": 501
        },
        "id": "qqueXYYtVmJq",
        "outputId": "cff023f9-9aca-4219-98ce-6995b63f1563"
      },
      "execution_count": 11,
      "outputs": [
        {
          "output_type": "execute_result",
          "data": {
            "text/plain": [
              "<matplotlib.axes._subplots.AxesSubplot at 0x7fba014eb6d0>"
            ]
          },
          "metadata": {},
          "execution_count": 11
        },
        {
          "output_type": "display_data",
          "data": {
            "text/plain": [
              "<Figure size 576x576 with 2 Axes>"
            ],
            "image/png": "[encoded data removed]"
          },
          "metadata": {
            "needs_background": "light"
          }
        }
      ]
    },
    {
      "cell_type": "code",
      "source": [
        "#Import scikit-learn metrics module for accuracy calculation\n",
        "from sklearn import metrics\n",
        "#Model Accuracy, how often is the classifier correct?\n",
        "print(\"Accuracy:\",metrics.accuracy_score(y_test, rfc_predict))"
      ],
      "metadata": {
        "colab": {
          "base_uri": "https://localhost:8080/"
        },
        "id": "-EXUl6wOwUKu",
        "outputId": "f0f51b8a-77dc-4838-af0f-98a84efe9657"
      },
      "execution_count": 12,
      "outputs": [
        {
          "output_type": "stream",
          "name": "stdout",
          "text": [
            "Accuracy: 0.76953125\n"
          ]
        }
      ]
    },
    {
      "cell_type": "code",
      "source": [
        "#Display the first tree\n",
        "plt.figure(figsize=(20,20))\n",
        "phn = tree.plot_tree(rfc.estimators_[0], feature_names = x.columns, filled=True)"
      ],
      "metadata": {
        "colab": {
          "base_uri": "https://localhost:8080/",
          "height": 1000
        },
        "id": "qUgecx0MQtu4",
        "outputId": "af226645-ec3e-45cc-d5b1-2a3a52ad4624"
      },
      "execution_count": 13,
      "outputs": [
        {
          "output_type": "display_data",
          "data": {
            "text/plain": [
              "<Figure size 1440x1440 with 1 Axes>"
            ],
            "image/png": "[encoded data removed]"
          },
          "metadata": {
            "needs_background": "light"
          }
        }
      ]
    },
    {
      "cell_type": "markdown",
      "source": [
        "EXPERIMENTING WITH VARIOUS TEST_SIZE VALUES"
      ],
      "metadata": {
        "id": "OnQre56kIkRw"
      }
    },
    {
      "cell_type": "code",
      "source": [
        "x_train, x_test, y_train, y_test = train_test_split(x, y, test_size=0.1, random_state=42)\n",
        "# random forest model creation\n",
        "rfcA = RandomForestClassifier(n_estimators=100, max_depth=3, min_samples_split=20)\n",
        "rfcA.fit(x_train,y_train)\n",
        "# predictions\n",
        "rfc_predict = rfcA.predict(x_test)\n",
        "# classification report\n",
        "print(\"=== Classification Report ===\")\n",
        "print(classification_report(y_test, rfc_predict))\n",
        "print('\\n')"
      ],
      "metadata": {
        "colab": {
          "base_uri": "https://localhost:8080/"
        },
        "id": "l_IU2inSJiqF",
        "outputId": "57a4e993-2c75-43eb-c2e1-a81461c46954"
      },
      "execution_count": 14,
      "outputs": [
        {
          "output_type": "stream",
          "name": "stdout",
          "text": [
            "=== Classification Report ===\n",
            "              precision    recall  f1-score   support\n",
            "\n",
            "           0       0.76      0.95      0.85        44\n",
            "           1       0.78      0.35      0.48        20\n",
            "\n",
            "    accuracy                           0.77        64\n",
            "   macro avg       0.77      0.65      0.67        64\n",
            "weighted avg       0.77      0.77      0.73        64\n",
            "\n",
            "\n",
            "\n"
          ]
        }
      ]
    },
    {
      "cell_type": "code",
      "source": [
        "x_train, x_test, y_train, y_test = train_test_split(x, y, test_size=0.2, random_state=42)\n",
        "# random forest model creation\n",
        "rfcB = RandomForestClassifier(n_estimators=100, max_depth=3, min_samples_split=20)\n",
        "rfcB.fit(x_train,y_train)\n",
        "# predictions\n",
        "rfc_predict = rfcB.predict(x_test)\n",
        "# classification report\n",
        "print(\"=== Classification Report ===\")\n",
        "print(classification_report(y_test, rfc_predict))\n",
        "print('\\n')"
      ],
      "metadata": {
        "colab": {
          "base_uri": "https://localhost:8080/"
        },
        "id": "CNZrBpb3JvwH",
        "outputId": "a955ac35-01db-4b2b-94f6-7ede01f87436"
      },
      "execution_count": 15,
      "outputs": [
        {
          "output_type": "stream",
          "name": "stdout",
          "text": [
            "=== Classification Report ===\n",
            "              precision    recall  f1-score   support\n",
            "\n",
            "           0       0.78      0.96      0.86        92\n",
            "           1       0.73      0.31      0.43        36\n",
            "\n",
            "    accuracy                           0.77       128\n",
            "   macro avg       0.76      0.63      0.64       128\n",
            "weighted avg       0.77      0.77      0.74       128\n",
            "\n",
            "\n",
            "\n"
          ]
        }
      ]
    },
    {
      "cell_type": "code",
      "source": [
        "x_train, x_test, y_train, y_test = train_test_split(x, y, test_size=0.3, random_state=42)\n",
        "# random forest model creation\n",
        "rfcC = RandomForestClassifier(n_estimators=100, max_depth=3, min_samples_split=20)\n",
        "rfcC.fit(x_train,y_train)\n",
        "# predictions\n",
        "rfc_predict = rfcC.predict(x_test)\n",
        "# classification report\n",
        "print(\"=== Classification Report ===\")\n",
        "print(classification_report(y_test, rfc_predict))\n",
        "print('\\n')"
      ],
      "metadata": {
        "colab": {
          "base_uri": "https://localhost:8080/"
        },
        "id": "1lGF0pl6JywK",
        "outputId": "d0a7b5c4-3ed3-4c28-d452-2408cbf7b26d"
      },
      "execution_count": 16,
      "outputs": [
        {
          "output_type": "stream",
          "name": "stdout",
          "text": [
            "=== Classification Report ===\n",
            "              precision    recall  f1-score   support\n",
            "\n",
            "           0       0.77      0.97      0.86       132\n",
            "           1       0.84      0.35      0.49        60\n",
            "\n",
            "    accuracy                           0.78       192\n",
            "   macro avg       0.80      0.66      0.68       192\n",
            "weighted avg       0.79      0.78      0.74       192\n",
            "\n",
            "\n",
            "\n"
          ]
        }
      ]
    },
    {
      "cell_type": "code",
      "source": [
        "x_train, x_test, y_train, y_test = train_test_split(x, y, test_size=0.4, random_state=42)\n",
        "# random forest model creation\n",
        "rfcD = RandomForestClassifier(n_estimators=100, max_depth=3, min_samples_split=20)\n",
        "rfcD.fit(x_train,y_train)\n",
        "# predictions\n",
        "rfc_predict = rfcD.predict(x_test)\n",
        "# classification report\n",
        "print(\"=== Classification Report ===\")\n",
        "print(classification_report(y_test, rfc_predict))\n",
        "print('\\n')"
      ],
      "metadata": {
        "colab": {
          "base_uri": "https://localhost:8080/"
        },
        "id": "QSvZ92MHJ3BJ",
        "outputId": "524c36b9-e25e-4699-dce9-a6c051d44f93"
      },
      "execution_count": 17,
      "outputs": [
        {
          "output_type": "stream",
          "name": "stdout",
          "text": [
            "=== Classification Report ===\n",
            "              precision    recall  f1-score   support\n",
            "\n",
            "           0       0.76      0.98      0.85       173\n",
            "           1       0.90      0.34      0.49        83\n",
            "\n",
            "    accuracy                           0.77       256\n",
            "   macro avg       0.83      0.66      0.67       256\n",
            "weighted avg       0.80      0.77      0.74       256\n",
            "\n",
            "\n",
            "\n"
          ]
        }
      ]
    },
    {
      "cell_type": "code",
      "source": [
        "x_train, x_test, y_train, y_test = train_test_split(x, y, test_size=0.5, random_state=42)\n",
        "# random forest model creation\n",
        "rfcE = RandomForestClassifier(n_estimators=100, max_depth=3, min_samples_split=20)\n",
        "rfcE.fit(x_train,y_train)\n",
        "# predictions\n",
        "rfc_predict = rfcE.predict(x_test)\n",
        "# classification report\n",
        "print(\"=== Classification Report ===\")\n",
        "print(classification_report(y_test, rfc_predict))\n",
        "print('\\n')"
      ],
      "metadata": {
        "colab": {
          "base_uri": "https://localhost:8080/"
        },
        "id": "Q--hwpCAJ7jc",
        "outputId": "d95c9d2b-ee77-4770-c1e6-b528172bd11a"
      },
      "execution_count": 18,
      "outputs": [
        {
          "output_type": "stream",
          "name": "stdout",
          "text": [
            "=== Classification Report ===\n",
            "              precision    recall  f1-score   support\n",
            "\n",
            "           0       0.76      0.99      0.86       220\n",
            "           1       0.94      0.31      0.47       100\n",
            "\n",
            "    accuracy                           0.78       320\n",
            "   macro avg       0.85      0.65      0.66       320\n",
            "weighted avg       0.82      0.78      0.74       320\n",
            "\n",
            "\n",
            "\n"
          ]
        }
      ]
    },
    {
      "cell_type": "code",
      "source": [
        "x_train, x_test, y_train, y_test = train_test_split(x, y, test_size=0.6, random_state=42)\n",
        "# random forest model creation\n",
        "rfcF = RandomForestClassifier(n_estimators=100, max_depth=3, min_samples_split=20)\n",
        "rfcF.fit(x_train,y_train)\n",
        "# predictions\n",
        "rfc_predict = rfcF.predict(x_test)\n",
        "# classification report\n",
        "print(\"=== Classification Report ===\")\n",
        "print(classification_report(y_test, rfc_predict))\n",
        "print('\\n')"
      ],
      "metadata": {
        "colab": {
          "base_uri": "https://localhost:8080/"
        },
        "id": "L0g4CD2xKASk",
        "outputId": "d4f8b8fb-7e6d-46a1-9fe1-156d8fe797ee"
      },
      "execution_count": 19,
      "outputs": [
        {
          "output_type": "stream",
          "name": "stdout",
          "text": [
            "=== Classification Report ===\n",
            "              precision    recall  f1-score   support\n",
            "\n",
            "           0       0.75      0.98      0.85       259\n",
            "           1       0.89      0.31      0.46       125\n",
            "\n",
            "    accuracy                           0.76       384\n",
            "   macro avg       0.82      0.65      0.65       384\n",
            "weighted avg       0.79      0.76      0.72       384\n",
            "\n",
            "\n",
            "\n"
          ]
        }
      ]
    },
    {
      "cell_type": "code",
      "source": [
        "x_train, x_test, y_train, y_test = train_test_split(x, y, test_size=0.7, random_state=42)\n",
        "# random forest model creation\n",
        "rfcG = RandomForestClassifier(n_estimators=100, max_depth=3, min_samples_split=20)\n",
        "rfcG.fit(x_train,y_train)\n",
        "# predictions\n",
        "rfc_predict = rfcG.predict(x_test)\n",
        "# classification report\n",
        "print(\"=== Classification Report ===\")\n",
        "print(classification_report(y_test, rfc_predict))\n",
        "print('\\n')"
      ],
      "metadata": {
        "colab": {
          "base_uri": "https://localhost:8080/"
        },
        "id": "VP61W99kKFnt",
        "outputId": "91885f8b-a8ff-4d2c-f6bb-8bb2ef05ceca"
      },
      "execution_count": 20,
      "outputs": [
        {
          "output_type": "stream",
          "name": "stdout",
          "text": [
            "=== Classification Report ===\n",
            "              precision    recall  f1-score   support\n",
            "\n",
            "           0       0.75      0.98      0.85       303\n",
            "           1       0.88      0.32      0.47       145\n",
            "\n",
            "    accuracy                           0.77       448\n",
            "   macro avg       0.82      0.65      0.66       448\n",
            "weighted avg       0.79      0.77      0.73       448\n",
            "\n",
            "\n",
            "\n"
          ]
        }
      ]
    },
    {
      "cell_type": "code",
      "source": [
        "x_train, x_test, y_train, y_test = train_test_split(x, y, test_size=0.8, random_state=42)\n",
        "# random forest model creation\n",
        "rfcH = RandomForestClassifier(n_estimators=100, max_depth=3, min_samples_split=20)\n",
        "rfcH.fit(x_train,y_train)\n",
        "# predictions\n",
        "rfc_predict = rfcH.predict(x_test)\n",
        "# classification report\n",
        "print(\"=== Classification Report ===\")\n",
        "print(classification_report(y_test, rfc_predict))\n",
        "print('\\n')"
      ],
      "metadata": {
        "colab": {
          "base_uri": "https://localhost:8080/"
        },
        "id": "MovWKfjUKK-Z",
        "outputId": "cf4af549-6e95-4384-8707-1f66db2d609b"
      },
      "execution_count": 21,
      "outputs": [
        {
          "output_type": "stream",
          "name": "stdout",
          "text": [
            "=== Classification Report ===\n",
            "              precision    recall  f1-score   support\n",
            "\n",
            "           0       0.72      0.99      0.84       346\n",
            "           1       0.90      0.22      0.35       166\n",
            "\n",
            "    accuracy                           0.74       512\n",
            "   macro avg       0.81      0.60      0.59       512\n",
            "weighted avg       0.78      0.74      0.68       512\n",
            "\n",
            "\n",
            "\n"
          ]
        }
      ]
    },
    {
      "cell_type": "code",
      "source": [
        "x_train, x_test, y_train, y_test = train_test_split(x, y, test_size=0.9, random_state=42)\n",
        "# random forest model creation\n",
        "rfcI = RandomForestClassifier(n_estimators=100, max_depth=3, min_samples_split=20)\n",
        "rfcI.fit(x_train,y_train)\n",
        "# predictions\n",
        "rfc_predict = rfcI.predict(x_test)\n",
        "# classification report\n",
        "print(\"=== Classification Report ===\")\n",
        "print(classification_report(y_test, rfc_predict))\n",
        "print('\\n')"
      ],
      "metadata": {
        "colab": {
          "base_uri": "https://localhost:8080/"
        },
        "id": "DeLu_6NmK530",
        "outputId": "2e6b985b-9e71-44c3-bee8-620bedb30175"
      },
      "execution_count": 22,
      "outputs": [
        {
          "output_type": "stream",
          "name": "stdout",
          "text": [
            "=== Classification Report ===\n",
            "              precision    recall  f1-score   support\n",
            "\n",
            "           0       0.69      0.99      0.82       392\n",
            "           1       0.86      0.07      0.12       184\n",
            "\n",
            "    accuracy                           0.70       576\n",
            "   macro avg       0.78      0.53      0.47       576\n",
            "weighted avg       0.75      0.70      0.60       576\n",
            "\n",
            "\n",
            "\n"
          ]
        }
      ]
    },
    {
      "cell_type": "markdown",
      "source": [
        "EXPERIMENTING WITH VARIOUS N ESTIMATOR VALUES"
      ],
      "metadata": {
        "id": "B9AL1xJBJWUc"
      }
    },
    {
      "cell_type": "code",
      "source": [
        "x_train, x_test, y_train, y_test = train_test_split(x, y, test_size=0.2, random_state=42)\n",
        "# random forest model creation\n",
        "rfc1 = RandomForestClassifier(n_estimators=100, max_depth=3, min_samples_split=20)\n",
        "rfc1.fit(x_train,y_train)\n",
        "# predictions\n",
        "rfc_predict = rfc1.predict(x_test)\n",
        "# classification report\n",
        "print(\"=== Classification Report ===\")\n",
        "print(classification_report(y_test, rfc_predict))\n",
        "print('\\n')"
      ],
      "metadata": {
        "colab": {
          "base_uri": "https://localhost:8080/"
        },
        "id": "zGtnbW8-pQLv",
        "outputId": "058858a0-50df-40f4-bb61-00227627ac71"
      },
      "execution_count": 23,
      "outputs": [
        {
          "output_type": "stream",
          "name": "stdout",
          "text": [
            "=== Classification Report ===\n",
            "              precision    recall  f1-score   support\n",
            "\n",
            "           0       0.78      0.98      0.87        92\n",
            "           1       0.85      0.31      0.45        36\n",
            "\n",
            "    accuracy                           0.79       128\n",
            "   macro avg       0.81      0.64      0.66       128\n",
            "weighted avg       0.80      0.79      0.75       128\n",
            "\n",
            "\n",
            "\n"
          ]
        }
      ]
    },
    {
      "cell_type": "code",
      "source": [
        "x_train, x_test, y_train, y_test = train_test_split(x, y, test_size=0.2, random_state=42)\n",
        "# random forest model creation\n",
        "rfc2 = RandomForestClassifier(n_estimators=200, max_depth=3, min_samples_split=20)\n",
        "rfc2.fit(x_train,y_train)\n",
        "# predictions\n",
        "rfc_predict = rfc2.predict(x_test)\n",
        "# classification report\n",
        "print(\"=== Classification Report ===\")\n",
        "print(classification_report(y_test, rfc_predict))\n",
        "print('\\n')"
      ],
      "metadata": {
        "colab": {
          "base_uri": "https://localhost:8080/"
        },
        "id": "wwFgeZuMobDY",
        "outputId": "7b84278b-f682-400c-f21f-7b07b41e40dc"
      },
      "execution_count": 24,
      "outputs": [
        {
          "output_type": "stream",
          "name": "stdout",
          "text": [
            "=== Classification Report ===\n",
            "              precision    recall  f1-score   support\n",
            "\n",
            "           0       0.78      0.97      0.86        92\n",
            "           1       0.79      0.31      0.44        36\n",
            "\n",
            "    accuracy                           0.78       128\n",
            "   macro avg       0.78      0.64      0.65       128\n",
            "weighted avg       0.78      0.78      0.74       128\n",
            "\n",
            "\n",
            "\n"
          ]
        }
      ]
    },
    {
      "cell_type": "code",
      "source": [
        "x_train, x_test, y_train, y_test = train_test_split(x, y, test_size=0.2, random_state=42)\n",
        "# random forest model creation\n",
        "rfc5 = RandomForestClassifier(n_estimators=500, max_depth=3, min_samples_split=20)\n",
        "rfc5.fit(x_train,y_train)\n",
        "# predictions\n",
        "rfc_predict = rfc5.predict(x_test)\n",
        "# classification report\n",
        "print(\"=== Classification Report ===\")\n",
        "print(classification_report(y_test, rfc_predict))\n",
        "print('\\n')"
      ],
      "metadata": {
        "colab": {
          "base_uri": "https://localhost:8080/"
        },
        "id": "Gt-jrAXPorVO",
        "outputId": "88718b64-d15a-4d4c-905a-02f8b68ef381"
      },
      "execution_count": 25,
      "outputs": [
        {
          "output_type": "stream",
          "name": "stdout",
          "text": [
            "=== Classification Report ===\n",
            "              precision    recall  f1-score   support\n",
            "\n",
            "           0       0.78      0.97      0.86        92\n",
            "           1       0.79      0.31      0.44        36\n",
            "\n",
            "    accuracy                           0.78       128\n",
            "   macro avg       0.78      0.64      0.65       128\n",
            "weighted avg       0.78      0.78      0.74       128\n",
            "\n",
            "\n",
            "\n"
          ]
        }
      ]
    },
    {
      "cell_type": "code",
      "source": [
        "x_train, x_test, y_train, y_test = train_test_split(x, y, test_size=0.2, random_state=42)\n",
        "# random forest model creation\n",
        "rfc6 = RandomForestClassifier(n_estimators=800, max_depth=3, min_samples_split=20)\n",
        "rfc6.fit(x_train,y_train)\n",
        "# predictions\n",
        "rfc_predict = rfc6.predict(x_test)\n",
        "# classification report\n",
        "print(\"=== Classification Report ===\")\n",
        "print(classification_report(y_test, rfc_predict))\n",
        "print('\\n')"
      ],
      "metadata": {
        "colab": {
          "base_uri": "https://localhost:8080/"
        },
        "id": "65gx4NQnpD-T",
        "outputId": "129ea627-f745-4b12-8dbb-240d74b16696"
      },
      "execution_count": 26,
      "outputs": [
        {
          "output_type": "stream",
          "name": "stdout",
          "text": [
            "=== Classification Report ===\n",
            "              precision    recall  f1-score   support\n",
            "\n",
            "           0       0.79      0.97      0.87        92\n",
            "           1       0.80      0.33      0.47        36\n",
            "\n",
            "    accuracy                           0.79       128\n",
            "   macro avg       0.79      0.65      0.67       128\n",
            "weighted avg       0.79      0.79      0.76       128\n",
            "\n",
            "\n",
            "\n"
          ]
        }
      ]
    },
    {
      "cell_type": "code",
      "source": [
        "x_train, x_test, y_train, y_test = train_test_split(x, y, test_size=0.2, random_state=42)\n",
        "# random forest model creation\n",
        "rfc7 = RandomForestClassifier(n_estimators=1000, max_depth=3, min_samples_split=20)\n",
        "rfc7.fit(x_train,y_train)\n",
        "# predictions\n",
        "rfc_predict = rfc7.predict(x_test)\n",
        "# classification report\n",
        "print(\"=== Classification Report ===\")\n",
        "print(classification_report(y_test, rfc_predict))\n",
        "print('\\n')"
      ],
      "metadata": {
        "colab": {
          "base_uri": "https://localhost:8080/"
        },
        "id": "jSp_9BWapI2h",
        "outputId": "c5f48ab1-44a9-43cb-89f6-e0b42f053593"
      },
      "execution_count": 27,
      "outputs": [
        {
          "output_type": "stream",
          "name": "stdout",
          "text": [
            "=== Classification Report ===\n",
            "              precision    recall  f1-score   support\n",
            "\n",
            "           0       0.78      0.97      0.86        92\n",
            "           1       0.79      0.31      0.44        36\n",
            "\n",
            "    accuracy                           0.78       128\n",
            "   macro avg       0.78      0.64      0.65       128\n",
            "weighted avg       0.78      0.78      0.74       128\n",
            "\n",
            "\n",
            "\n"
          ]
        }
      ]
    },
    {
      "cell_type": "code",
      "source": [
        "x_train, x_test, y_train, y_test = train_test_split(x, y, test_size=0.2, random_state=42)\n",
        "# random forest model creation\n",
        "rfc8 = RandomForestClassifier(n_estimators=1500, max_depth=3, min_samples_split=20)\n",
        "rfc8.fit(x_train,y_train)\n",
        "# predictions\n",
        "rfc_predict = rfc8.predict(x_test)\n",
        "# classification report\n",
        "print(\"=== Classification Report ===\")\n",
        "print(classification_report(y_test, rfc_predict))\n",
        "print('\\n')"
      ],
      "metadata": {
        "colab": {
          "base_uri": "https://localhost:8080/"
        },
        "id": "k38iKT20pbbY",
        "outputId": "5770a84c-0caf-4b41-bd8c-afbe738f5f98"
      },
      "execution_count": 28,
      "outputs": [
        {
          "output_type": "stream",
          "name": "stdout",
          "text": [
            "=== Classification Report ===\n",
            "              precision    recall  f1-score   support\n",
            "\n",
            "           0       0.78      0.97      0.86        92\n",
            "           1       0.79      0.31      0.44        36\n",
            "\n",
            "    accuracy                           0.78       128\n",
            "   macro avg       0.78      0.64      0.65       128\n",
            "weighted avg       0.78      0.78      0.74       128\n",
            "\n",
            "\n",
            "\n"
          ]
        }
      ]
    },
    {
      "cell_type": "code",
      "source": [
        "x_train, x_test, y_train, y_test = train_test_split(x, y, test_size=0.2, random_state=42)\n",
        "# random forest model creation\n",
        "rfc9 = RandomForestClassifier(n_estimators=2000, max_depth=3, min_samples_split=20)\n",
        "rfc9.fit(x_train,y_train)\n",
        "# predictions\n",
        "rfc_predict = rfc9.predict(x_test)\n",
        "# classification report\n",
        "print(\"=== Classification Report ===\")\n",
        "print(classification_report(y_test, rfc_predict))\n",
        "print('\\n')"
      ],
      "metadata": {
        "colab": {
          "base_uri": "https://localhost:8080/"
        },
        "id": "bEQ-FK1gqf9B",
        "outputId": "d41443de-c3c5-4c32-bf6e-f5eee984cbe5"
      },
      "execution_count": 29,
      "outputs": [
        {
          "output_type": "stream",
          "name": "stdout",
          "text": [
            "=== Classification Report ===\n",
            "              precision    recall  f1-score   support\n",
            "\n",
            "           0       0.79      0.97      0.87        92\n",
            "           1       0.80      0.33      0.47        36\n",
            "\n",
            "    accuracy                           0.79       128\n",
            "   macro avg       0.79      0.65      0.67       128\n",
            "weighted avg       0.79      0.79      0.76       128\n",
            "\n",
            "\n",
            "\n"
          ]
        }
      ]
    },
    {
      "cell_type": "markdown",
      "source": [
        "NEURAL NETWORK"
      ],
      "metadata": {
        "id": "I228nXGkBmPs"
      }
    },
    {
      "cell_type": "code",
      "source": [
        "#Import more libraries\n",
        "import numpy as np\n",
        "from sklearn.preprocessing import Normalizer\n",
        "from sklearn.metrics import accuracy_score\n",
        "from keras.layers import Activation, Dense, Dropout, BatchNormalization, Input\n",
        "from keras.models import Model\n",
        "from keras.optimizers import Adam\n",
        "from keras.callbacks import ReduceLROnPlateau, EarlyStopping\n",
        "%matplotlib inline\n",
        "plt.style.use('fivethirtyeight')"
      ],
      "metadata": {
        "id": "gdIxMQesBl26"
      },
      "execution_count": 36,
      "outputs": []
    },
    {
      "cell_type": "code",
      "source": [
        "df.SkinThickness.replace(0, df.SkinThickness.median(), inplace=True)\n",
        "df.Insulin.replace(0, df.Insulin.median(), inplace=True)\n",
        "df.Glucose.replace(0, df.Glucose.median(), inplace=True)\n",
        "df.BloodPressure.replace(0, df.BloodPressure.median(), inplace=True)\n",
        "df.BMI.replace(0, df.BMI.median(), inplace=True)"
      ],
      "metadata": {
        "colab": {
          "base_uri": "https://localhost:8080/"
        },
        "id": "5OwFGvuJCTYz",
        "outputId": "76f8d525-e09c-47da-b2a8-3853281c4cd0"
      },
      "execution_count": 31,
      "outputs": [
        {
          "output_type": "stream",
          "name": "stderr",
          "text": [
            "/usr/local/lib/python3.8/dist-packages/pandas/core/generic.py:6619: SettingWithCopyWarning: \n",
            "A value is trying to be set on a copy of a slice from a DataFrame\n",
            "\n",
            "See the caveats in the documentation: https://pandas.pydata.org/pandas-docs/stable/user_guide/indexing.html#returning-a-view-versus-a-copy\n",
            "  return self._update_inplace(result)\n",
            "/usr/local/lib/python3.8/dist-packages/pandas/core/generic.py:6619: SettingWithCopyWarning: \n",
            "A value is trying to be set on a copy of a slice from a DataFrame\n",
            "\n",
            "See the caveats in the documentation: https://pandas.pydata.org/pandas-docs/stable/user_guide/indexing.html#returning-a-view-versus-a-copy\n",
            "  return self._update_inplace(result)\n",
            "/usr/local/lib/python3.8/dist-packages/pandas/core/generic.py:6619: SettingWithCopyWarning: \n",
            "A value is trying to be set on a copy of a slice from a DataFrame\n",
            "\n",
            "See the caveats in the documentation: https://pandas.pydata.org/pandas-docs/stable/user_guide/indexing.html#returning-a-view-versus-a-copy\n",
            "  return self._update_inplace(result)\n",
            "/usr/local/lib/python3.8/dist-packages/pandas/core/generic.py:6619: SettingWithCopyWarning: \n",
            "A value is trying to be set on a copy of a slice from a DataFrame\n",
            "\n",
            "See the caveats in the documentation: https://pandas.pydata.org/pandas-docs/stable/user_guide/indexing.html#returning-a-view-versus-a-copy\n",
            "  return self._update_inplace(result)\n",
            "/usr/local/lib/python3.8/dist-packages/pandas/core/generic.py:6619: SettingWithCopyWarning: \n",
            "A value is trying to be set on a copy of a slice from a DataFrame\n",
            "\n",
            "See the caveats in the documentation: https://pandas.pydata.org/pandas-docs/stable/user_guide/indexing.html#returning-a-view-versus-a-copy\n",
            "  return self._update_inplace(result)\n"
          ]
        }
      ]
    },
    {
      "cell_type": "code",
      "source": [
        "X = df.drop('Outcome', axis =1).values\n",
        "y = df.Outcome.values\n",
        "X_train, X_test, y_train, y_test = train_test_split(X, y, test_size=0.2, random_state=2)\n",
        "nl = Normalizer()\n",
        "nl.fit(X_train)\n",
        "X_train = nl.transform(X_train)\n",
        "X_dev, X_test, y_dev, y_test = train_test_split(X_test, y_test, test_size=0.2, random_state=2)\n",
        "X_dev = nl.transform(X_dev)\n",
        "X_test = nl.transform(X_test)"
      ],
      "metadata": {
        "id": "Jlh4pnqZD6B_"
      },
      "execution_count": 37,
      "outputs": []
    },
    {
      "cell_type": "code",
      "source": [
        "def nn():\n",
        "    inputs = Input(name='inputs', shape=[X_train.shape[1],])\n",
        "    layer = Dense(128, name='FC1')(inputs)\n",
        "    layer = BatchNormalization(name='BC1')(layer)\n",
        "    layer = Activation('relu', name='Activation1')(layer)\n",
        "    layer = Dropout(0.3, name='Dropout1')(layer)\n",
        "    layer = Dense(128, name='FC2')(layer)\n",
        "    layer = BatchNormalization(name='BC2')(layer)\n",
        "    layer = Activation('relu', name='Activation2')(layer)\n",
        "    layer = Dropout(0.3, name='Dropout2')(layer)\n",
        "    layer = Dense(128, name='FC3')(layer)\n",
        "    layer = BatchNormalization(name='BC3')(layer)\n",
        "    layer = Dropout(0.3, name='Dropout3')(layer)\n",
        "    layer = Dense(1, name='OutLayer')(layer)\n",
        "    layer = Activation('sigmoid', name='sigmoid')(layer)\n",
        "    model = Model(inputs=inputs, outputs=layer)\n",
        "    return model"
      ],
      "metadata": {
        "id": "zKW6cQ4AEG6o"
      },
      "execution_count": 38,
      "outputs": []
    },
    {
      "cell_type": "code",
      "source": [
        "model = nn()\n",
        "model.summary()\n",
        "\n",
        "model.compile(loss='binary_crossentropy', optimizer=Adam(), metrics=['accuracy'])\n",
        "\n",
        "reduce_lr = ReduceLROnPlateau()\n",
        "early_stopping = EarlyStopping(patience=20, min_delta=0.0001)\n",
        "model.fit(x=X_train, y=y_train, epochs=200, validation_data=(X_dev, y_dev), callbacks=[reduce_lr, early_stopping], verbose=0)\n",
        "\n",
        "x_lst = [X_train, X_dev, X_test]\n",
        "y_lst = [y_train, y_dev, y_test]\n",
        "for i,(x,y) in enumerate(zip(x_lst, y_lst)):\n",
        "    y_pred = model.predict(x)\n",
        "    y_pred = np.around(y_pred)\n",
        "    y_pred = np.asarray(y_pred)\n",
        "    if i == 0:\n",
        "        print('Training set:')\n",
        "        print('\\tAccuracy:{:0.3f}\\n\\tClassification Report\\n{}'.format(accuracy_score(y, y_pred),\n",
        "                                                      \n",
        "classification_report(y, y_pred)))\n",
        "    elif i == 1:\n",
        "        print('Dev set:')\n",
        "        print('\\tAccuracy:{:0.3f}\\n\\tClassification Report\\n{}'.format(accuracy_score(y, y_pred), \n",
        "                                                                  classification_report(y, y_pred)))\n",
        "    else:\n",
        "        print('Test set:')\n",
        "        print('\\tAccuracy:{:0.3f}\\n\\tClassification Report\\n{}'.format(accuracy_score(y, y_pred), \n",
        "                                                                  classification_report(y, y_pred)))                                                                "
      ],
      "metadata": {
        "colab": {
          "base_uri": "https://localhost:8080/"
        },
        "id": "CHQ1BxMSENXd",
        "outputId": "dd096ce6-ff9f-48d4-de3d-71c2f932271c"
      },
      "execution_count": 39,
      "outputs": [
        {
          "output_type": "stream",
          "name": "stdout",
          "text": [
            "Model: \"model_1\"\n",
            "_________________________________________________________________\n",
            " Layer (type)                Output Shape              Param #   \n",
            "=================================================================\n",
            " inputs (InputLayer)         [(None, 8)]               0         \n",
            "                                                                 \n",
            " FC1 (Dense)                 (None, 128)               1152      \n",
            "                                                                 \n",
            " BC1 (BatchNormalization)    (None, 128)               512       \n",
            "                                                                 \n",
            " Activation1 (Activation)    (None, 128)               0         \n",
            "                                                                 \n",
            " Dropout1 (Dropout)          (None, 128)               0         \n",
            "                                                                 \n",
            " FC2 (Dense)                 (None, 128)               16512     \n",
            "                                                                 \n",
            " BC2 (BatchNormalization)    (None, 128)               512       \n",
            "                                                                 \n",
            " Activation2 (Activation)    (None, 128)               0         \n",
            "                                                                 \n",
            " Dropout2 (Dropout)          (None, 128)               0         \n",
            "                                                                 \n",
            " FC3 (Dense)                 (None, 128)               16512     \n",
            "                                                                 \n",
            " BC3 (BatchNormalization)    (None, 128)               512       \n",
            "                                                                 \n",
            " Dropout3 (Dropout)          (None, 128)               0         \n",
            "                                                                 \n",
            " OutLayer (Dense)            (None, 1)                 129       \n",
            "                                                                 \n",
            " sigmoid (Activation)        (None, 1)                 0         \n",
            "                                                                 \n",
            "=================================================================\n",
            "Total params: 35,841\n",
            "Trainable params: 35,073\n",
            "Non-trainable params: 768\n",
            "_________________________________________________________________\n",
            "16/16 [==============================] - 0s 2ms/step\n",
            "Training set:\n",
            "\tAccuracy:0.693\n",
            "\tClassification Report\n",
            "              precision    recall  f1-score   support\n",
            "\n",
            "           0       0.69      1.00      0.82       354\n",
            "           1       0.00      0.00      0.00       157\n",
            "\n",
            "    accuracy                           0.69       511\n",
            "   macro avg       0.35      0.50      0.41       511\n",
            "weighted avg       0.48      0.69      0.57       511\n",
            "\n",
            "4/4 [==============================] - 0s 3ms/step\n",
            "Dev set:\n",
            "\tAccuracy:0.647\n",
            "\tClassification Report\n",
            "              precision    recall  f1-score   support\n",
            "\n",
            "           0       0.65      1.00      0.79        66\n",
            "           1       0.00      0.00      0.00        36\n",
            "\n",
            "    accuracy                           0.65       102\n",
            "   macro avg       0.32      0.50      0.39       102\n",
            "weighted avg       0.42      0.65      0.51       102\n",
            "\n",
            "1/1 [==============================] - 0s 19ms/step\n",
            "Test set:\n",
            "\tAccuracy:0.731\n",
            "\tClassification Report\n",
            "              precision    recall  f1-score   support\n",
            "\n",
            "           0       0.73      1.00      0.84        19\n",
            "           1       0.00      0.00      0.00         7\n",
            "\n",
            "    accuracy                           0.73        26\n",
            "   macro avg       0.37      0.50      0.42        26\n",
            "weighted avg       0.53      0.73      0.62        26\n",
            "\n"
          ]
        },
        {
          "output_type": "stream",
          "name": "stderr",
          "text": [
            "/usr/local/lib/python3.8/dist-packages/sklearn/metrics/_classification.py:1318: UndefinedMetricWarning: Precision and F-score are ill-defined and being set to 0.0 in labels with no predicted samples. Use `zero_division` parameter to control this behavior.\n",
            "  _warn_prf(average, modifier, msg_start, len(result))\n",
            "/usr/local/lib/python3.8/dist-packages/sklearn/metrics/_classification.py:1318: UndefinedMetricWarning: Precision and F-score are ill-defined and being set to 0.0 in labels with no predicted samples. Use `zero_division` parameter to control this behavior.\n",
            "  _warn_prf(average, modifier, msg_start, len(result))\n",
            "/usr/local/lib/python3.8/dist-packages/sklearn/metrics/_classification.py:1318: UndefinedMetricWarning: Precision and F-score are ill-defined and being set to 0.0 in labels with no predicted samples. Use `zero_division` parameter to control this behavior.\n",
            "  _warn_prf(average, modifier, msg_start, len(result))\n",
            "/usr/local/lib/python3.8/dist-packages/sklearn/metrics/_classification.py:1318: UndefinedMetricWarning: Precision and F-score are ill-defined and being set to 0.0 in labels with no predicted samples. Use `zero_division` parameter to control this behavior.\n",
            "  _warn_prf(average, modifier, msg_start, len(result))\n",
            "/usr/local/lib/python3.8/dist-packages/sklearn/metrics/_classification.py:1318: UndefinedMetricWarning: Precision and F-score are ill-defined and being set to 0.0 in labels with no predicted samples. Use `zero_division` parameter to control this behavior.\n",
            "  _warn_prf(average, modifier, msg_start, len(result))\n",
            "/usr/local/lib/python3.8/dist-packages/sklearn/metrics/_classification.py:1318: UndefinedMetricWarning: Precision and F-score are ill-defined and being set to 0.0 in labels with no predicted samples. Use `zero_division` parameter to control this behavior.\n",
            "  _warn_prf(average, modifier, msg_start, len(result))\n",
            "/usr/local/lib/python3.8/dist-packages/sklearn/metrics/_classification.py:1318: UndefinedMetricWarning: Precision and F-score are ill-defined and being set to 0.0 in labels with no predicted samples. Use `zero_division` parameter to control this behavior.\n",
            "  _warn_prf(average, modifier, msg_start, len(result))\n",
            "/usr/local/lib/python3.8/dist-packages/sklearn/metrics/_classification.py:1318: UndefinedMetricWarning: Precision and F-score are ill-defined and being set to 0.0 in labels with no predicted samples. Use `zero_division` parameter to control this behavior.\n",
            "  _warn_prf(average, modifier, msg_start, len(result))\n",
            "/usr/local/lib/python3.8/dist-packages/sklearn/metrics/_classification.py:1318: UndefinedMetricWarning: Precision and F-score are ill-defined and being set to 0.0 in labels with no predicted samples. Use `zero_division` parameter to control this behavior.\n",
            "  _warn_prf(average, modifier, msg_start, len(result))\n"
          ]
        }
      ]
    }
  ]
}